{
 "cells": [
  {
   "cell_type": "code",
   "execution_count": 1,
   "id": "4143e7bb",
   "metadata": {},
   "outputs": [],
   "source": [
    "import numpy as np\n",
    "import matplotlib.pyplot as plt\n",
    "\n",
    "%matplotlib inline"
   ]
  },
  {
   "cell_type": "code",
   "execution_count": 2,
   "id": "6fa92101",
   "metadata": {},
   "outputs": [],
   "source": [
    "import egttools as egt"
   ]
  },
  {
   "cell_type": "code",
   "execution_count": 3,
   "id": "ec0bee58",
   "metadata": {},
   "outputs": [],
   "source": [
    "import pandas as pd"
   ]
  },
  {
   "cell_type": "code",
   "execution_count": 4,
   "id": "f0f0678d",
   "metadata": {},
   "outputs": [],
   "source": [
    "%load_ext autoreload"
   ]
  },
  {
   "cell_type": "code",
   "execution_count": 5,
   "id": "1a8f46d2",
   "metadata": {},
   "outputs": [],
   "source": [
    "%autoreload 1"
   ]
  },
  {
   "cell_type": "code",
   "execution_count": 6,
   "id": "bc7c4cde",
   "metadata": {},
   "outputs": [],
   "source": [
    "%aimport punishment_payoffs"
   ]
  },
  {
   "cell_type": "code",
   "execution_count": null,
   "id": "59aaf115",
   "metadata": {},
   "outputs": [],
   "source": []
  },
  {
   "cell_type": "code",
   "execution_count": 7,
   "id": "fb9b78d4",
   "metadata": {},
   "outputs": [],
   "source": [
    "set_4 = [\"CNNN\", \"DNNN\", \"LNNN\", \"CNPN\"]\n",
    "strategy_set_9 = [\"LNNN\"]\n",
    "for action in [\"C\", \"D\"]:\n",
    "    for punish_coop in [\"P\", \"N\"]:\n",
    "        for punish_def in [\"P\", \"N\"]:\n",
    "            for punish_loners in [\"N\"]:\n",
    "                strategy_set_9.append(action + punish_coop + punish_def+ punish_loners)\n",
    "strategy_set_24 = []\n",
    "for action in [\"L\", \"C\", \"D\"]:\n",
    "    for punish_coop in [\"P\", \"N\"]:\n",
    "        for punish_def in [\"P\", \"N\"]:\n",
    "            for punish_loners in [\"P\", \"N\"]:\n",
    "                strategy_set_24.append(action + punish_coop + punish_def+ punish_loners)"
   ]
  },
  {
   "cell_type": "markdown",
   "id": "08091f59",
   "metadata": {},
   "source": [
    "## Cooperation with group_size"
   ]
  },
  {
   "cell_type": "code",
   "execution_count": 8,
   "id": "2e106436",
   "metadata": {},
   "outputs": [],
   "source": [
    "def cooperation_level_single_point(strategy_set, r=3.0, c=1.0, sigma=1.0, beta_fine=1.0, gamma_cost=1.0, group_size=5, population_size=100, beta=1.0):\n",
    "    payoffs = np.empty((len(strategy_set), len(strategy_set))).tolist()\n",
    "    for i in range(len(strategy_set)):\n",
    "        for j in range(len(strategy_set)):\n",
    "            payoffs[i][j] = punishment_payoffs.function_creator(i, j, r, c, sigma, beta_fine, gamma_cost, group_size, strategy_set=strategy_set)\n",
    "    payoffs = np.array(payoffs)\n",
    "    evolver = egt.analytical.StochDynamics(len(strategy_set), payoffs,population_size, group_size, mu=0.0)\n",
    "    stationary = evolver.calculate_stationary_distribution(beta)\n",
    "    ans = 0.0\n",
    "    for i in range(len(payoffs)):\n",
    "        ans = ans + stationary[i]*payoffs[i, i](group_size, group_size)\n",
    "    # pure cooperation_payoff\n",
    "    cooperation_strategy_index = strategy_set.index(\"CNNN\")\n",
    "    payoff_cooperation = payoffs[cooperation_strategy_index, cooperation_strategy_index](group_size, group_size)\n",
    "    return ans/payoff_cooperation "
   ]
  },
  {
   "cell_type": "code",
   "execution_count": 9,
   "id": "be73e9da",
   "metadata": {},
   "outputs": [],
   "source": [
    "def cooperation_vs_group_size(strategy_set, r=3.0, c=1.0, sigma=1.0, beta_fine=1.0, gamma_cost=1.0, population_size=50):\n",
    "    Z_line = list(range(3, 21))\n",
    "    ans = list()\n",
    "    for group_size in Z_line:\n",
    "        ans.append(cooperation_level_single_point(strategy_set, r=3.0, c=1.0, sigma=1.0, beta_fine=1.0, gamma_cost=1.0, group_size=group_size, population_size=population_size))\n",
    "    return Z_line, ans"
   ]
  },
  {
   "cell_type": "code",
   "execution_count": 15,
   "id": "350e95e5",
   "metadata": {},
   "outputs": [],
   "source": [
    "#x, y_set4 = cooperation_vs_group_size(set_4, r=3.0, c=1.0, sigma=1.0, beta_fine=1.0, gamma_cost=1.0, population_size=50)"
   ]
  },
  {
   "cell_type": "code",
   "execution_count": 17,
   "id": "3a157aeb",
   "metadata": {},
   "outputs": [],
   "source": [
    "#x, y_set9 = cooperation_vs_group_size(strategy_set_9, r=3.0, c=1.0, sigma=1.0, beta_fine=1.0, gamma_cost=1.0, population_size=50)"
   ]
  },
  {
   "cell_type": "code",
   "execution_count": 18,
   "id": "3bcba0a7",
   "metadata": {},
   "outputs": [],
   "source": [
    "#x, y_set24 = cooperation_vs_group_size(strategy_set_24, r=3.0, c=1.0, sigma=1.0, beta_fine=1.0, gamma_cost=1.0, population_size=50)"
   ]
  },
  {
   "cell_type": "code",
   "execution_count": 10,
   "id": "b4ed50a8",
   "metadata": {},
   "outputs": [],
   "source": [
    "df = pd.read_pickle(\"figure3b.pkl\")"
   ]
  },
  {
   "cell_type": "code",
   "execution_count": 11,
   "id": "a63c79d8",
   "metadata": {},
   "outputs": [
    {
     "data": {
      "text/html": [
       "<div>\n",
       "<style scoped>\n",
       "    .dataframe tbody tr th:only-of-type {\n",
       "        vertical-align: middle;\n",
       "    }\n",
       "\n",
       "    .dataframe tbody tr th {\n",
       "        vertical-align: top;\n",
       "    }\n",
       "\n",
       "    .dataframe thead th {\n",
       "        text-align: right;\n",
       "    }\n",
       "</style>\n",
       "<table border=\"1\" class=\"dataframe\">\n",
       "  <thead>\n",
       "    <tr style=\"text-align: right;\">\n",
       "      <th></th>\n",
       "      <th>n</th>\n",
       "      <th>Four</th>\n",
       "      <th>Nine</th>\n",
       "      <th>24</th>\n",
       "    </tr>\n",
       "  </thead>\n",
       "  <tbody>\n",
       "    <tr>\n",
       "      <th>0</th>\n",
       "      <td>3.0</td>\n",
       "      <td>0.953796</td>\n",
       "      <td>0.953788</td>\n",
       "      <td>0.750406</td>\n",
       "    </tr>\n",
       "    <tr>\n",
       "      <th>1</th>\n",
       "      <td>4.0</td>\n",
       "      <td>0.915918</td>\n",
       "      <td>0.915918</td>\n",
       "      <td>0.542244</td>\n",
       "    </tr>\n",
       "    <tr>\n",
       "      <th>2</th>\n",
       "      <td>5.0</td>\n",
       "      <td>0.914330</td>\n",
       "      <td>0.914330</td>\n",
       "      <td>0.513213</td>\n",
       "    </tr>\n",
       "    <tr>\n",
       "      <th>3</th>\n",
       "      <td>6.0</td>\n",
       "      <td>0.915033</td>\n",
       "      <td>0.915033</td>\n",
       "      <td>0.506819</td>\n",
       "    </tr>\n",
       "    <tr>\n",
       "      <th>4</th>\n",
       "      <td>7.0</td>\n",
       "      <td>0.916055</td>\n",
       "      <td>0.916055</td>\n",
       "      <td>0.503615</td>\n",
       "    </tr>\n",
       "  </tbody>\n",
       "</table>\n",
       "</div>"
      ],
      "text/plain": [
       "     n      Four      Nine        24\n",
       "0  3.0  0.953796  0.953788  0.750406\n",
       "1  4.0  0.915918  0.915918  0.542244\n",
       "2  5.0  0.914330  0.914330  0.513213\n",
       "3  6.0  0.915033  0.915033  0.506819\n",
       "4  7.0  0.916055  0.916055  0.503615"
      ]
     },
     "execution_count": 11,
     "metadata": {},
     "output_type": "execute_result"
    }
   ],
   "source": [
    "df.head()"
   ]
  },
  {
   "cell_type": "code",
   "execution_count": 12,
   "id": "e9729d90",
   "metadata": {},
   "outputs": [],
   "source": [
    "import seaborn"
   ]
  },
  {
   "cell_type": "code",
   "execution_count": null,
   "id": "e12c7a4c",
   "metadata": {},
   "outputs": [],
   "source": []
  },
  {
   "cell_type": "code",
   "execution_count": 18,
   "id": "46615464",
   "metadata": {},
   "outputs": [
    {
     "data": {
      "image/png": "[encoded data removed]",
      "text/plain": [
       "<Figure size 500x500 with 1 Axes>"
      ]
     },
     "metadata": {},
     "output_type": "display_data"
    }
   ],
   "source": [
    "seaborn.set_context(\"talk\", font_scale=0.8)\n",
    "seaborn.set_style(\"whitegrid\")\n",
    "plt.figure(figsize=(5,5))\n",
    "plt.plot(df[\"n\"], df[\"Four\"],  label=\"4 strategies\")\n",
    "plt.plot(df[\"n\"], df[\"Nine\"], linestyle='dashed', label=\"9 strategies\")\n",
    "plt.plot(df[\"n\"], df[\"24\"],label=\"24 strategies\")\n",
    "plt.ylim([0.3, 1.0])\n",
    "plt.xticks([4,8,  12,  16,  20])\n",
    "plt.legend(loc=\"lower right\")\n",
    "plt.xlabel(\"Group size\")\n",
    "plt.ylabel(\"Percentage of cooperation\");\n",
    "plt.savefig(\"figure3_punishment_groupsizev2.pdf\", bbox_inches=\"tight\")"
   ]
  },
  {
   "cell_type": "code",
   "execution_count": 25,
   "id": "f5cfb74c",
   "metadata": {},
   "outputs": [],
   "source": [
    "df =  pd.DataFrame(np.array([x, y_set4, y_set9, y_set24]).transpose(), columns=[\"n\", \"Four\", \"Nine\", \"24\"])"
   ]
  },
  {
   "cell_type": "code",
   "execution_count": 26,
   "id": "48c09a75",
   "metadata": {},
   "outputs": [],
   "source": [
    "df.to_pickle(\"figure3b.pkl\")"
   ]
  },
  {
   "cell_type": "code",
   "execution_count": null,
   "id": "27b2e29b",
   "metadata": {},
   "outputs": [],
   "source": []
  }
 ],
 "metadata": {
  "kernelspec": {
   "display_name": "Python 3 (ipykernel)",
   "language": "python",
   "name": "python3"
  },
  "language_info": {
   "codemirror_mode": {
    "name": "ipython",
    "version": 3
   },
   "file_extension": ".py",
   "mimetype": "text/x-python",
   "name": "python",
   "nbconvert_exporter": "python",
   "pygments_lexer": "ipython3",
   "version": "3.9.13"
  }
 },
 "nbformat": 4,
 "nbformat_minor": 5
}
