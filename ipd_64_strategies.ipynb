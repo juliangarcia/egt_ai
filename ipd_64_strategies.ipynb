{
 "cells": [
  {
   "cell_type": "markdown",
   "id": "a500e0e1-d146-4378-9c98-60d884fbd33e",
   "metadata": {},
   "source": [
    "# 64 x 64 matrix"
   ]
  },
  {
   "cell_type": "markdown",
   "id": "6827dfed-f230-41e2-b914-00981ad9963b",
   "metadata": {},
   "source": [
    "[0] First time\n",
    "\n",
    "[1] Second time\n",
    "\n",
    "[CC]\n",
    "[CD]\n",
    "[DC]\n",
    "[DD]"
   ]
  },
  {
   "cell_type": "code",
   "execution_count": 54,
   "id": "5627a3e7-d510-45cd-bf84-78078e795017",
   "metadata": {},
   "outputs": [],
   "source": [
    "# 00 → 2 \n",
    "# 01 → 3\n",
    "# 10 → 4\n",
    "# 11 → 5\n",
    "\n"
   ]
  },
  {
   "cell_type": "code",
   "execution_count": 13,
   "id": "b934afcb-a941-4ecf-ac5e-c7f17cfff9ad",
   "metadata": {},
   "outputs": [],
   "source": [
    "import numpy as np"
   ]
  },
  {
   "cell_type": "code",
   "execution_count": 31,
   "id": "81d03dbd-d57c-465a-8d0c-5f8345e776c7",
   "metadata": {},
   "outputs": [],
   "source": []
  },
  {
   "cell_type": "code",
   "execution_count": 32,
   "id": "5284fde7-4bce-4e57-ad5d-ec1d657a0345",
   "metadata": {},
   "outputs": [
    {
     "data": {
      "text/plain": [
       "[0, 0, 0, 1, 0, 1]"
      ]
     },
     "execution_count": 32,
     "metadata": {},
     "output_type": "execute_result"
    }
   ],
   "source": [
    "integer_to_binary(5)"
   ]
  },
  {
   "cell_type": "code",
   "execution_count": 16,
   "id": "51eec544-3387-45de-8ec2-2d676d9f0191",
   "metadata": {},
   "outputs": [],
   "source": []
  },
  {
   "cell_type": "code",
   "execution_count": 17,
   "id": "2baa9dbf-cdee-4a81-a0ce-6596160a3716",
   "metadata": {},
   "outputs": [],
   "source": []
  },
  {
   "cell_type": "code",
   "execution_count": 20,
   "id": "08bbc6c4-e504-47b8-aa8e-0dfabf965509",
   "metadata": {},
   "outputs": [
    {
     "data": {
      "text/plain": [
       "0"
      ]
     },
     "execution_count": 20,
     "metadata": {},
     "output_type": "execute_result"
    }
   ],
   "source": [
    "payoff_matrix[0, 1]"
   ]
  },
  {
   "cell_type": "code",
   "execution_count": 28,
   "id": "d7fd22c6-8780-402f-9c7f-b48ee8e571d3",
   "metadata": {},
   "outputs": [
    {
     "data": {
      "text/plain": [
       "0.00010624559555035018"
      ]
     },
     "execution_count": 28,
     "metadata": {},
     "output_type": "execute_result"
    }
   ],
   "source": [
    "max(payoff_matrix.flatten())*(delta**100)"
   ]
  },
  {
   "cell_type": "code",
   "execution_count": 115,
   "id": "ce4bb6fc-5a50-41af-ab92-4e556e59978c",
   "metadata": {},
   "outputs": [],
   "source": [
    "def mapper(last_two_actions):\n",
    "    assert len(last_two_actions) ==2 \n",
    "    if last_two_actions == [0, 0]:\n",
    "        return 2\n",
    "    if last_two_actions == [0, 1]:\n",
    "        return 3\n",
    "    if last_two_actions == [1, 0]:\n",
    "        return 4\n",
    "    if last_two_actions == [1, 1]:\n",
    "        return 5\n",
    "    \n",
    "def integer_to_binary(i):\n",
    "        assert 0<= i < 64, \"Invalid integer strategy\"\n",
    "        return [int(x) for x in '{:06b}'.format(i)]    \n",
    "    \n",
    "def estimate_payoff(player_one, player_two, R, S, T, P, delta):\n",
    "    \n",
    "    assert 0 <= delta <= 0.99\n",
    "    \n",
    "    payoff_matrix = np.array([[R, S], [T, P]])\n",
    "    \n",
    "    player_one_strategy = integer_to_binary(player_one)\n",
    "    player_two_strategy = integer_to_binary(player_two)\n",
    "    payoff_player_one = 0.0\n",
    "    \n",
    "    actions_player_1 = []\n",
    "    actions_player_2 = []\n",
    "    \n",
    "    \n",
    "    # ROUND 1\n",
    "    i = 0\n",
    "    action_player_one = player_one_strategy[0]\n",
    "    action_player_two = player_two_strategy[0]\n",
    "    \n",
    "    actions_player_1.append(action_player_one)\n",
    "    actions_player_2.append(action_player_two)\n",
    "    \n",
    "    payoff_player_one = payoff_player_one + (delta**i)* payoff_matrix[action_player_one, action_player_two]\n",
    "    \n",
    "    # ROUND 2\n",
    "    i = 1\n",
    "    action_player_one = player_one_strategy[1]\n",
    "    action_player_two = player_two_strategy[1]\n",
    "    \n",
    "    actions_player_1.append(action_player_one)\n",
    "    actions_player_2.append(action_player_two)\n",
    "    \n",
    "    payoff_player_one = payoff_player_one + (delta**i)* payoff_matrix[action_player_one, action_player_two]\n",
    "    \n",
    "    rounds = 100\n",
    "    if 0.95 <= delta <= 0.99:\n",
    "        rounds = 1000\n",
    "    \n",
    "    for i in range(2, rounds):\n",
    "        \n",
    "        action_player_one = player_one_strategy[mapper(actions_player_2[-2:])]\n",
    "        action_player_two = player_two_strategy[mapper(actions_player_1[-2:])]\n",
    "    \n",
    "        actions_player_1.append(action_player_one)\n",
    "        actions_player_2.append(action_player_two)\n",
    "    \n",
    "        payoff_player_one = payoff_player_one + (delta**i)* payoff_matrix[action_player_one, action_player_two]\n",
    "        \n",
    "    return np.round((1-delta)*payoff_player_one, decimals=3)"
   ]
  },
  {
   "cell_type": "code",
   "execution_count": 117,
   "id": "3084f8c6-95d9-48f2-93ca-df9b11287d0e",
   "metadata": {},
   "outputs": [
    {
     "data": {
      "text/plain": [
       "4.0"
      ]
     },
     "execution_count": 117,
     "metadata": {},
     "output_type": "execute_result"
    }
   ],
   "source": [
    "R = 3\n",
    "S = 0\n",
    "P = 1\n",
    "T = 4\n",
    "delta = 0.9\n",
    "estimate_payoff(63, 0, R, S, T, P, delta)"
   ]
  }
 ],
 "metadata": {
  "kernelspec": {
   "display_name": "Python 3 (ipykernel)",
   "language": "python",
   "name": "python3"
  },
  "language_info": {
   "codemirror_mode": {
    "name": "ipython",
    "version": 3
   },
   "file_extension": ".py",
   "mimetype": "text/x-python",
   "name": "python",
   "nbconvert_exporter": "python",
   "pygments_lexer": "ipython3",
   "version": "3.9.13"
  }
 },
 "nbformat": 4,
 "nbformat_minor": 5
}
