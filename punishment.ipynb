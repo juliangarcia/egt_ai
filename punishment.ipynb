{
 "cells": [
  {
   "cell_type": "code",
   "execution_count": 1,
   "id": "4143e7bb",
   "metadata": {},
   "outputs": [],
   "source": [
    "import numpy as np\n",
    "import matplotlib.pyplot as plt\n",
    "\n",
    "%matplotlib inline"
   ]
  },
  {
   "cell_type": "code",
   "execution_count": 2,
   "id": "6fa92101",
   "metadata": {},
   "outputs": [],
   "source": [
    "import egttools as egt"
   ]
  },
  {
   "cell_type": "code",
   "execution_count": 3,
   "id": "ec0bee58",
   "metadata": {},
   "outputs": [],
   "source": [
    "import pandas as pd"
   ]
  },
  {
   "cell_type": "code",
   "execution_count": 4,
   "id": "f0f0678d",
   "metadata": {},
   "outputs": [],
   "source": [
    "%load_ext autoreload"
   ]
  },
  {
   "cell_type": "code",
   "execution_count": 5,
   "id": "1a8f46d2",
   "metadata": {},
   "outputs": [],
   "source": [
    "%autoreload 1"
   ]
  },
  {
   "cell_type": "code",
   "execution_count": 6,
   "id": "bc7c4cde",
   "metadata": {},
   "outputs": [],
   "source": [
    "%aimport punishment_payoffs"
   ]
  },
  {
   "cell_type": "code",
   "execution_count": null,
   "id": "87700dcc",
   "metadata": {},
   "outputs": [],
   "source": []
  },
  {
   "cell_type": "code",
   "execution_count": 7,
   "id": "9a59d0c3",
   "metadata": {},
   "outputs": [],
   "source": [
    "set_4 = [\"CNNN\", \"DNNN\", \"LNNN\", \"CNPN\"]\n",
    "strategy_set_9 = [\"LNNN\"]\n",
    "for action in [\"C\", \"D\"]:\n",
    "    for punish_coop in [\"P\", \"N\"]:\n",
    "        for punish_def in [\"P\", \"N\"]:\n",
    "            for punish_loners in [\"N\"]:\n",
    "                strategy_set_9.append(action + punish_coop + punish_def+ punish_loners)\n",
    "strategy_set_24 = []\n",
    "for action in [\"L\", \"C\", \"D\"]:\n",
    "    for punish_coop in [\"P\", \"N\"]:\n",
    "        for punish_def in [\"P\", \"N\"]:\n",
    "            for punish_loners in [\"P\", \"N\"]:\n",
    "                strategy_set_24.append(action + punish_coop + punish_def+ punish_loners)"
   ]
  },
  {
   "cell_type": "markdown",
   "id": "9c8502e1",
   "metadata": {},
   "source": [
    "## Cooperation with pop size"
   ]
  },
  {
   "cell_type": "code",
   "execution_count": 8,
   "id": "11af6698",
   "metadata": {},
   "outputs": [],
   "source": [
    "def cooperation_level_single_pop_size(strategy_set, r=3.0, c=1.0, sigma=1.0, beta_fine=1.0, gamma_cost=1.0, group_size=5, population_size=100, beta=1.0):\n",
    "    payoffs = np.empty((len(strategy_set), len(strategy_set))).tolist()\n",
    "    for i in range(len(strategy_set)):\n",
    "        for j in range(len(strategy_set)):\n",
    "            payoffs[i][j] = punishment_payoffs.function_creator(i, j, r, c, sigma, beta_fine, gamma_cost, group_size, strategy_set=strategy_set)\n",
    "    payoffs = np.array(payoffs)\n",
    "    evolver = egt.analytical.StochDynamics(len(strategy_set), payoffs,population_size, group_size, mu=0.0)\n",
    "    stationary = evolver.calculate_stationary_distribution(beta)\n",
    "    ans = 0.0\n",
    "    for i in range(len(payoffs)):\n",
    "        ans = ans + stationary[i]*payoffs[i, i](group_size, group_size)\n",
    "    # pure cooperation_payoff\n",
    "    cooperation_strategy_index = strategy_set.index(\"CNNN\")\n",
    "    payoff_cooperation = payoffs[cooperation_strategy_index, cooperation_strategy_index](group_size, group_size)\n",
    "    return ans/payoff_cooperation "
   ]
  },
  {
   "cell_type": "code",
   "execution_count": 12,
   "id": "c401b406",
   "metadata": {},
   "outputs": [],
   "source": [
    "def cooperation_vs_n(strategy_set, r=3.0, c=1.0, sigma=1.0, beta_fine=1.0, gamma_cost=1.0, group_size=5):\n",
    "    Z_line = list(range(10, 100))\n",
    "    ans = list()\n",
    "    for population_size in Z_line:\n",
    "        ans.append(cooperation_level_single_pop_size(strategy_set, r=3.0, c=1.0, sigma=1.0, beta_fine=1.0, gamma_cost=1.0, group_size=5, population_size=population_size))\n",
    "    return Z_line, ans"
   ]
  },
  {
   "cell_type": "code",
   "execution_count": 13,
   "id": "17e6b10c",
   "metadata": {},
   "outputs": [],
   "source": [
    "df =pd.read_pickle(\"figure3a.pkl\")"
   ]
  },
  {
   "cell_type": "code",
   "execution_count": 14,
   "id": "a86b7244",
   "metadata": {},
   "outputs": [
    {
     "data": {
      "text/html": [
       "<div>\n",
       "<style scoped>\n",
       "    .dataframe tbody tr th:only-of-type {\n",
       "        vertical-align: middle;\n",
       "    }\n",
       "\n",
       "    .dataframe tbody tr th {\n",
       "        vertical-align: top;\n",
       "    }\n",
       "\n",
       "    .dataframe thead th {\n",
       "        text-align: right;\n",
       "    }\n",
       "</style>\n",
       "<table border=\"1\" class=\"dataframe\">\n",
       "  <thead>\n",
       "    <tr style=\"text-align: right;\">\n",
       "      <th></th>\n",
       "      <th>N</th>\n",
       "      <th>Four</th>\n",
       "      <th>Nine</th>\n",
       "      <th>24</th>\n",
       "    </tr>\n",
       "  </thead>\n",
       "  <tbody>\n",
       "    <tr>\n",
       "      <th>0</th>\n",
       "      <td>10.0</td>\n",
       "      <td>0.805144</td>\n",
       "      <td>0.804937</td>\n",
       "      <td>0.507890</td>\n",
       "    </tr>\n",
       "    <tr>\n",
       "      <th>1</th>\n",
       "      <td>11.0</td>\n",
       "      <td>0.814086</td>\n",
       "      <td>0.813995</td>\n",
       "      <td>0.510526</td>\n",
       "    </tr>\n",
       "    <tr>\n",
       "      <th>2</th>\n",
       "      <td>12.0</td>\n",
       "      <td>0.821648</td>\n",
       "      <td>0.821608</td>\n",
       "      <td>0.512515</td>\n",
       "    </tr>\n",
       "    <tr>\n",
       "      <th>3</th>\n",
       "      <td>13.0</td>\n",
       "      <td>0.828248</td>\n",
       "      <td>0.828230</td>\n",
       "      <td>0.514074</td>\n",
       "    </tr>\n",
       "    <tr>\n",
       "      <th>4</th>\n",
       "      <td>14.0</td>\n",
       "      <td>0.834128</td>\n",
       "      <td>0.834120</td>\n",
       "      <td>0.515305</td>\n",
       "    </tr>\n",
       "  </tbody>\n",
       "</table>\n",
       "</div>"
      ],
      "text/plain": [
       "      N      Four      Nine        24\n",
       "0  10.0  0.805144  0.804937  0.507890\n",
       "1  11.0  0.814086  0.813995  0.510526\n",
       "2  12.0  0.821648  0.821608  0.512515\n",
       "3  13.0  0.828248  0.828230  0.514074\n",
       "4  14.0  0.834128  0.834120  0.515305"
      ]
     },
     "execution_count": 14,
     "metadata": {},
     "output_type": "execute_result"
    }
   ],
   "source": [
    "df.head()"
   ]
  },
  {
   "cell_type": "code",
   "execution_count": 10,
   "id": "32e11bfe",
   "metadata": {},
   "outputs": [],
   "source": [
    "#x, y_set4 = cooperation_vs_n(set_4, r=3.0, c=1.0, sigma=1.0, beta_fine=1.0, gamma_cost=1.0, group_size=5)"
   ]
  },
  {
   "cell_type": "code",
   "execution_count": 15,
   "id": "2f7b02a4",
   "metadata": {},
   "outputs": [],
   "source": [
    "#x, y_set9 = cooperation_vs_n(strategy_set_9, r=3.0, c=1.0, sigma=1.0, beta_fine=1.0, gamma_cost=1.0, group_size=5)"
   ]
  },
  {
   "cell_type": "code",
   "execution_count": null,
   "id": "c407e200",
   "metadata": {},
   "outputs": [],
   "source": [
    "#x, y_set24 =  cooperation_vs_n(strategy_set_24, r=3.0, c=1.0, sigma=1.0, beta_fine=1.0, gamma_cost=1.0, group_size=5)"
   ]
  },
  {
   "cell_type": "code",
   "execution_count": 17,
   "id": "72c0017d",
   "metadata": {},
   "outputs": [],
   "source": [
    "import seaborn "
   ]
  },
  {
   "cell_type": "code",
   "execution_count": 35,
   "id": "0caac804",
   "metadata": {},
   "outputs": [
    {
     "data": {
      "image/png": "[encoded data removed]",
      "text/plain": [
       "<Figure size 500x500 with 1 Axes>"
      ]
     },
     "metadata": {},
     "output_type": "display_data"
    }
   ],
   "source": [
    "seaborn.set_context(\"talk\", font_scale=0.8)\n",
    "seaborn.set_style(\"whitegrid\")\n",
    "plt.figure(figsize=(5,5))\n",
    "plt.plot(df[\"N\"], df[\"Four\"],  label=\"4 strategies\") #, color=\"black\",\n",
    "plt.plot(df[\"N\"], df[\"Nine\"], label=\"9 strategies\", linestyle='dashed') #linestyle='solid',color=\"gray\" linewidth=0.7\n",
    "plt.plot(df[\"N\"], df[\"24\"], label=\"24 strategies\") #linestyle='solid',color=\"black\",\n",
    "plt.ylim([0.3, 1.0])\n",
    "plt.legend(loc=\"lower right\")\n",
    "plt.xlabel(\"Population size\")\n",
    "plt.ylabel(\"Percentage of cooperation\");\n",
    "plt.savefig(\"figure3_punishment_popsize_v4.pdf\", bbox_inches=\"tight\")"
   ]
  },
  {
   "cell_type": "code",
   "execution_count": 69,
   "id": "6aa07e57",
   "metadata": {},
   "outputs": [],
   "source": [
    "df =  pd.DataFrame(np.array([x, y_set4, y_set9, y_set24]).transpose(), columns=[\"N\", \"Four\", \"Nine\", \"24\"])"
   ]
  },
  {
   "cell_type": "code",
   "execution_count": 70,
   "id": "5e6d06da",
   "metadata": {},
   "outputs": [],
   "source": [
    "df.to_pickle(\"figure3a.pkl\")"
   ]
  },
  {
   "cell_type": "code",
   "execution_count": null,
   "id": "2fb8b1ce",
   "metadata": {},
   "outputs": [],
   "source": []
  },
  {
   "cell_type": "code",
   "execution_count": null,
   "id": "1e8b7463",
   "metadata": {},
   "outputs": [],
   "source": []
  },
  {
   "cell_type": "code",
   "execution_count": null,
   "id": "abc4e154",
   "metadata": {},
   "outputs": [],
   "source": []
  },
  {
   "cell_type": "code",
   "execution_count": null,
   "id": "4cf339c1",
   "metadata": {},
   "outputs": [],
   "source": []
  }
 ],
 "metadata": {
  "kernelspec": {
   "display_name": "Python 3 (ipykernel)",
   "language": "python",
   "name": "python3"
  },
  "language_info": {
   "codemirror_mode": {
    "name": "ipython",
    "version": 3
   },
   "file_extension": ".py",
   "mimetype": "text/x-python",
   "name": "python",
   "nbconvert_exporter": "python",
   "pygments_lexer": "ipython3",
   "version": "3.9.13"
  }
 },
 "nbformat": 4,
 "nbformat_minor": 5
}
